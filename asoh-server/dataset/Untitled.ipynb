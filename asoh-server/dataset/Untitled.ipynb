{
 "cells": [
  {
   "cell_type": "code",
   "execution_count": 1,
   "metadata": {
    "collapsed": true
   },
   "outputs": [],
   "source": [
    "import pandas as pd"
   ]
  },
  {
   "cell_type": "code",
   "execution_count": 4,
   "metadata": {
    "collapsed": true
   },
   "outputs": [],
   "source": [
    "df = pd.read_csv('Dropdown_foodlist_category.csv', index_col=0)"
   ]
  },
  {
   "cell_type": "code",
   "execution_count": 8,
   "metadata": {},
   "outputs": [],
   "source": [
    "df['PRODUK'] = df['PRODUK'].str.replace('_', ' ')"
   ]
  },
  {
   "cell_type": "code",
   "execution_count": 10,
   "metadata": {},
   "outputs": [],
   "source": [
    "df[\"Category_clean\"] = df['Category_clean'].str.replace('_', ' ')"
   ]
  },
  {
   "cell_type": "code",
   "execution_count": 12,
   "metadata": {},
   "outputs": [],
   "source": [
    "df.to_csv('Dropdown_foodlist_category.csv')"
   ]
  },
  {
   "cell_type": "code",
   "execution_count": 14,
   "metadata": {},
   "outputs": [
    {
     "data": {
      "text/plain": [
       "array(['Cereals and cereal products', 'Starchy roots tubers and products',\n",
       "       'Legumes and legume products', 'Nuts seeds and products',\n",
       "       'Vegetables and vegetable products', 'Fruits and fruit products',\n",
       "       'Sugars and syrups', 'Meat and meat products', 'Eggs',\n",
       "       'Fish shellfish and products', 'Milk and milk products',\n",
       "       'Miscellaneous', 'Beverages', 'Oils and fats',\n",
       "       'Cereal based dishes', 'Meat dishes', 'Fish and seafood dishes',\n",
       "       'Miscellaneous dishes', 'Franchised fastfoods chicken',\n",
       "       'Franchised fastfoods burger', 'Franchised fastfoods pizza',\n",
       "       'Franchised fastfoods spaghetti', 'Franchised fastfoods sandwich',\n",
       "       'Franchised fastfoods miscellaneous', 'Franchised fastfoods satay',\n",
       "       'Traditional Malaysian kuih rice and rice flour based',\n",
       "       'Traditional Malaysian kuih wheat flour based',\n",
       "       'Traditional Malaysian kuih miscellaneous'], dtype=object)"
      ]
     },
     "execution_count": 14,
     "metadata": {},
     "output_type": "execute_result"
    }
   ],
   "source": [
    "df[\"Category_clean\"].unique()"
   ]
  },
  {
   "cell_type": "code",
   "execution_count": null,
   "metadata": {
    "collapsed": true
   },
   "outputs": [],
   "source": []
  }
 ],
 "metadata": {
  "kernelspec": {
   "display_name": "Python 3",
   "language": "python",
   "name": "python3"
  },
  "language_info": {
   "codemirror_mode": {
    "name": "ipython",
    "version": 3
   },
   "file_extension": ".py",
   "mimetype": "text/x-python",
   "name": "python",
   "nbconvert_exporter": "python",
   "pygments_lexer": "ipython3",
   "version": "3.6.5"
  }
 },
 "nbformat": 4,
 "nbformat_minor": 2
}
